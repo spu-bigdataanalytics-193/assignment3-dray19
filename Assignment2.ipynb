{
 "cells": [
  {
   "cell_type": "markdown",
   "metadata": {},
   "source": [
    "# Map Reduce Algorithm"
   ]
  },
  {
   "cell_type": "markdown",
   "metadata": {},
   "source": [
    "Map reduce is very functional algorithm where three parts of it can easily executed on different machines. In this assignment, we will try to implement this algorithm into a >100 million rows dataset.\n",
    "\n",
    "For comparison, we will have two ways of getting counts of carriers.\n",
    "\n",
    "1. Serial way - Looping through each record and counting each airline's flight\n",
    "2. Map reduce way - map, reduce and sort, and collect way to counn the flights"
   ]
  },
  {
   "cell_type": "code",
   "execution_count": 1,
   "metadata": {},
   "outputs": [],
   "source": [
    "import os\n",
    "import glob\n",
    "import pandas as pd\n",
    "import utils\n",
    "import data_handler\n",
    "from mapreduce1 import mapreduce"
   ]
  },
  {
   "cell_type": "markdown",
   "metadata": {},
   "source": [
    "## Data Preperation"
   ]
  },
  {
   "cell_type": "code",
   "execution_count": 2,
   "metadata": {},
   "outputs": [
    {
     "name": "stdout",
     "output_type": "stream",
     "text": [
      "data downloaded. you can skip this step or delete data folder to download again.\n"
     ]
    }
   ],
   "source": [
    "data_handler.download_dataset()"
   ]
  },
  {
   "cell_type": "markdown",
   "metadata": {},
   "source": [
    "## Variables"
   ]
  },
  {
   "cell_type": "code",
   "execution_count": 3,
   "metadata": {},
   "outputs": [],
   "source": [
    "# all files under data folder\n",
    "file_list = sorted(glob.glob(os.path.join('data', '*.csv.bz2')))"
   ]
  },
  {
   "cell_type": "code",
   "execution_count": 4,
   "metadata": {},
   "outputs": [],
   "source": [
    "carrier_counts = {}"
   ]
  },
  {
   "cell_type": "markdown",
   "metadata": {},
   "source": [
    "## Serial Way\n",
    "\n",
    "Here, we are getting a list of files under the data folder. The serial way requires to loop through all of the records and update one by one. \n",
    "\n",
    "If you think your computer is fast enough, you can also try `read_as_dataframe` in data_handler module. You can simply use the following code rather than looping through each file.\n",
    "\n",
    "```py\n",
    "# inital value dictionary\n",
    "carrier_counts = {}\n",
    "\n",
    "# read all datasets into one\n",
    "df = data_handler.read_as_dataframe()\n",
    "\n",
    "# unique careers\n",
    "carriers = df.UniqueCarrier.unique()\n",
    "\n",
    "# get the counts\n",
    "for carrier in df.UniqueCarrier:\n",
    "    carrier_counts[carrier] += 1\n",
    "```\n",
    "\n",
    "Since my computer wasn't able to finish it, I prefered the loop. Hopefully, you won't run into these issues thanks to the Map Reduce Algorithm!"
   ]
  },
  {
   "cell_type": "code",
   "execution_count": 5,
   "metadata": {},
   "outputs": [
    {
     "name": "stdout",
     "output_type": "stream",
     "text": [
      "Shape: (7009728, 29) ; 1626.26 Mb [####################] 100% \n",
      "CPU times: user 10min 17s, sys: 1min 13s, total: 11min 31s\n",
      "Wall time: 10min 59s\n"
     ]
    }
   ],
   "source": [
    "%%time\n",
    "for ind, data_file in enumerate(file_list):\n",
    "    # read current data\n",
    "    df = pd.read_csv(data_file, encoding='ISO-8859-1', memory_map=True, low_memory=False)\n",
    "    \n",
    "    # unique airlines in dataset\n",
    "    carriers = df.UniqueCarrier.unique()\n",
    "    \n",
    "    # update the global carrier_count\n",
    "    for key in carriers:\n",
    "        if key not in carrier_counts:\n",
    "            carrier_counts.update({key: 0})\n",
    "    \n",
    "    # loop through each row in dataframe \n",
    "    for carrier in df.UniqueCarrier:\n",
    "        carrier_counts[carrier] += 1\n",
    "\n",
    "    # info \n",
    "    prefix ='Shape: {} ; {} Mb'.format(\n",
    "        df.shape, round(df.memory_usage().sum() / 1e+6,2))\n",
    "    \n",
    "    # track the progress\n",
    "    utils.progressbar(len(file_list), ind + 1, prefix=prefix)"
   ]
  },
  {
   "cell_type": "code",
   "execution_count": 6,
   "metadata": {},
   "outputs": [
    {
     "data": {
      "text/plain": [
       "{'PS': 83617,\n",
       " 'TW': 3757747,\n",
       " 'UA': 13299817,\n",
       " 'WN': 15976022,\n",
       " 'EA': 919785,\n",
       " 'HP': 3636682,\n",
       " 'NW': 10292627,\n",
       " 'PA (1)': 316167,\n",
       " 'PI': 873957,\n",
       " 'CO': 8145788,\n",
       " 'DL': 16547870,\n",
       " 'AA': 14984647,\n",
       " 'US': 14075530,\n",
       " 'AS': 2878021,\n",
       " 'ML (1)': 70622,\n",
       " 'AQ': 154381,\n",
       " 'MQ': 3954895,\n",
       " 'OO': 3090853,\n",
       " 'XE': 2350309,\n",
       " 'TZ': 208420,\n",
       " 'EV': 1697172,\n",
       " 'FL': 1265138,\n",
       " 'B6': 811341,\n",
       " 'DH': 693047,\n",
       " 'HA': 274265,\n",
       " 'OH': 1464176,\n",
       " 'F9': 336958,\n",
       " 'YV': 854056,\n",
       " '9E': 521059}"
      ]
     },
     "execution_count": 6,
     "metadata": {},
     "output_type": "execute_result"
    }
   ],
   "source": [
    "# results\n",
    "carrier_counts"
   ]
  },
  {
   "cell_type": "markdown",
   "metadata": {},
   "source": [
    "## Map Reduce Way"
   ]
  },
  {
   "cell_type": "markdown",
   "metadata": {},
   "source": [
    "### Loading of data"
   ]
  },
  {
   "cell_type": "code",
   "execution_count": 7,
   "metadata": {},
   "outputs": [],
   "source": [
    "import multiprocessing\n",
    "from itertools import  chain\n",
    "\n",
    "def load_files(x):\n",
    "        df = pd.read_csv(x, encoding='ISO-8859-1', memory_map=True, low_memory=False)\n",
    "        carriers = list(df.UniqueCarrier)\n",
    "        return(carriers)"
   ]
  },
  {
   "cell_type": "code",
   "execution_count": 8,
   "metadata": {},
   "outputs": [
    {
     "name": "stdout",
     "output_type": "stream",
     "text": [
      "CPU times: user 1.49 s, sys: 1.17 s, total: 2.66 s\n",
      "Wall time: 5min 30s\n"
     ]
    }
   ],
   "source": [
    "%%time\n",
    "pool = multiprocessing.Pool(3)\n",
    "ww = pool.map(load_files, file_list)\n",
    "pool.close()\n",
    "pool.join()"
   ]
  },
  {
   "cell_type": "code",
   "execution_count": 9,
   "metadata": {},
   "outputs": [
    {
     "name": "stdout",
     "output_type": "stream",
     "text": [
      "Total: 123534969\n"
     ]
    }
   ],
   "source": [
    "merged = list(chain(*ww))\n",
    "print('Total:',len(merged))"
   ]
  },
  {
   "cell_type": "markdown",
   "metadata": {},
   "source": [
    "### Mapping step"
   ]
  },
  {
   "cell_type": "code",
   "execution_count": 10,
   "metadata": {},
   "outputs": [
    {
     "name": "stdout",
     "output_type": "stream",
     "text": [
      "[('PS', 1), ('PS', 1), ('PS', 1), ('PS', 1), ('PS', 1), ('PS', 1), ('PS', 1), ('PS', 1), ('PS', 1), ('PS', 1), ('PS', 1)]\n"
     ]
    }
   ],
   "source": [
    "mp = mapreduce(merged)\n",
    "mp.mapping_step()"
   ]
  },
  {
   "cell_type": "markdown",
   "metadata": {},
   "source": [
    "### Shuffling Step"
   ]
  },
  {
   "cell_type": "code",
   "execution_count": 11,
   "metadata": {},
   "outputs": [
    {
     "name": "stdout",
     "output_type": "stream",
     "text": [
      "First Group:\n",
      "[('9E', 1), ('9E', 1), ('9E', 1), ('9E', 1), ('9E', 1), ('9E', 1), ('9E', 1), ('9E', 1), ('9E', 1), ('9E', 1), ('9E', 1)]\n",
      "================================================================================\n",
      "Last Group:\n",
      "[('YV', 1), ('YV', 1), ('YV', 1), ('YV', 1), ('YV', 1), ('YV', 1), ('YV', 1), ('YV', 1), ('YV', 1), ('YV', 1), ('YV', 1), ('YV', 1)]\n"
     ]
    }
   ],
   "source": [
    "mp.shuffling_step()"
   ]
  },
  {
   "cell_type": "markdown",
   "metadata": {},
   "source": [
    "### Reducing Step"
   ]
  },
  {
   "cell_type": "code",
   "execution_count": 12,
   "metadata": {},
   "outputs": [
    {
     "name": "stdout",
     "output_type": "stream",
     "text": [
      "{'9E': 521059, 'AA': 14984647, 'AQ': 154381, 'AS': 2878021, 'B6': 811341, 'CO': 8145788, 'DH': 693047, 'DL': 16547870, 'EA': 919785, 'EV': 1697172, 'F9': 336958, 'FL': 1265138, 'HA': 274265, 'HP': 3636682, 'ML (1)': 70622, 'MQ': 3954895, 'NW': 10292627, 'OH': 1464176, 'OO': 3090853, 'PA (1)': 316167, 'PI': 873957, 'PS': 83617, 'TW': 3757747, 'TZ': 208420, 'UA': 13299817, 'US': 14075530, 'WN': 15976022, 'XE': 2350309, 'YV': 854056}\n"
     ]
    }
   ],
   "source": [
    "count = mp.reducing_step()\n",
    "print(count)"
   ]
  },
  {
   "cell_type": "markdown",
   "metadata": {},
   "source": [
    "## Conclusion"
   ]
  },
  {
   "cell_type": "code",
   "execution_count": 14,
   "metadata": {},
   "outputs": [
    {
     "name": "stdout",
     "output_type": "stream",
     "text": [
      "Most to Least\n"
     ]
    },
    {
     "data": {
      "text/plain": [
       "{'DL': 16547870,\n",
       " 'WN': 15976022,\n",
       " 'AA': 14984647,\n",
       " 'US': 14075530,\n",
       " 'UA': 13299817,\n",
       " 'NW': 10292627,\n",
       " 'CO': 8145788,\n",
       " 'MQ': 3954895,\n",
       " 'TW': 3757747,\n",
       " 'HP': 3636682,\n",
       " 'OO': 3090853,\n",
       " 'AS': 2878021,\n",
       " 'XE': 2350309,\n",
       " 'EV': 1697172,\n",
       " 'OH': 1464176,\n",
       " 'FL': 1265138,\n",
       " 'EA': 919785,\n",
       " 'PI': 873957,\n",
       " 'YV': 854056,\n",
       " 'B6': 811341,\n",
       " 'DH': 693047,\n",
       " '9E': 521059,\n",
       " 'F9': 336958,\n",
       " 'PA (1)': 316167,\n",
       " 'HA': 274265,\n",
       " 'TZ': 208420,\n",
       " 'AQ': 154381,\n",
       " 'PS': 83617,\n",
       " 'ML (1)': 70622}"
      ]
     },
     "execution_count": 14,
     "metadata": {},
     "output_type": "execute_result"
    }
   ],
   "source": [
    "# results\n",
    "count2 = sorted(count.items(), key = lambda x : x[1], reverse=True)\n",
    "print('Most to Least')\n",
    "dict(count2)"
   ]
  }
 ],
 "metadata": {
  "kernelspec": {
   "display_name": "Python 3",
   "language": "python",
   "name": "python3"
  },
  "language_info": {
   "codemirror_mode": {
    "name": "ipython",
    "version": 3
   },
   "file_extension": ".py",
   "mimetype": "text/x-python",
   "name": "python",
   "nbconvert_exporter": "python",
   "pygments_lexer": "ipython3",
   "version": "3.6.9"
  }
 },
 "nbformat": 4,
 "nbformat_minor": 2
}
